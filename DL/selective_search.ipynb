{
 "cells": [
  {
   "cell_type": "code",
   "execution_count": null,
   "source": [
    "import cv2\n",
    "from  matplotlib import pyplot as plt\n",
    "\n",
    "# read image\n",
    "im = cv2.imread(\"./data/titanic.jpg\")\n",
    "# resize image\n",
    "newHeight = 200\n",
    "newWidth = int(im.shape[1] * 200 / im.shape[0])\n",
    "im = cv2.resize(im, (newWidth, newHeight))\n",
    "im\n"
   ],
   "outputs": [
    {
     "output_type": "error",
     "ename": "Error",
     "evalue": "Session cannot generate requests",
     "traceback": [
      "Error: Session cannot generate requests",
      "at w.executeCodeCell (/root/.vscode-server/extensions/ms-toolsai.jupyter-2021.8.1236758218/out/client/extension.js:90:327199)",
      "at w.execute (/root/.vscode-server/extensions/ms-toolsai.jupyter-2021.8.1236758218/out/client/extension.js:90:326520)",
      "at w.start (/root/.vscode-server/extensions/ms-toolsai.jupyter-2021.8.1236758218/out/client/extension.js:90:322336)",
      "at async t.CellExecutionQueue.executeQueuedCells (/root/.vscode-server/extensions/ms-toolsai.jupyter-2021.8.1236758218/out/client/extension.js:90:336863)",
      "at async t.CellExecutionQueue.start (/root/.vscode-server/extensions/ms-toolsai.jupyter-2021.8.1236758218/out/client/extension.js:90:336403)"
     ]
    }
   ],
   "metadata": {}
  },
  {
   "cell_type": "code",
   "execution_count": null,
   "source": [
    "# 创建算法+设置输入图像\n",
    "ss = cv2.ximgproc.segmentation.createSelectiveSearchSegmentation()\n",
    "ss.setBaseImage(im)\n",
    "\n",
    "    # 使用SS快速版本\n",
    "ss.switchToSelectiveSearchFast()\n",
    "\n",
    "    # 执行SS\n",
    "    rects = ss.process()\n",
    "    print('Total Number of Region Proposals: {}'.format(len(rects)))\n",
    "\n",
    "    # 推荐100个ROI\n",
    "    numShowRects = 100\n",
    "    imOut = im.copy()\n",
    "\n",
    "    # 显示前100个区域外接矩形框\n",
    "    for i, rect in enumerate(rects):\n",
    "        if i < numShowRects:\n",
    "            x, y, w, h = rect\n",
    "            cv2.rectangle(imOut, (x, y), (x + w, y + h), (0, 255, 0), 1, cv2.LINE_AA)\n",
    "        else:\n",
    "            break\n",
    "\n",
    "    # show output\n",
    "    plt.imshow(\"SS-Demo\", imOut)\n",
    "    plt.show()"
   ],
   "outputs": [],
   "metadata": {}
  }
 ],
 "metadata": {
  "orig_nbformat": 4,
  "language_info": {
   "name": "python",
   "version": "3.6.10",
   "mimetype": "text/x-python",
   "codemirror_mode": {
    "name": "ipython",
    "version": 3
   },
   "pygments_lexer": "ipython3",
   "nbconvert_exporter": "python",
   "file_extension": ".py"
  },
  "kernelspec": {
   "name": "python3",
   "display_name": "Python 3.6.10 64-bit ('newstart': conda)"
  },
  "interpreter": {
   "hash": "4699d0494fcfbdcad71bfbf08269c8d05ff1b4528b9d75a5c8bdb803d5b027b9"
  }
 },
 "nbformat": 4,
 "nbformat_minor": 2
}