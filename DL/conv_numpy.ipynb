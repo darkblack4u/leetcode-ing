{
 "cells": [
  {
   "cell_type": "code",
   "execution_count": 18,
   "source": [
    "import torch\n",
    "from torch import nn\n",
    "m = nn.Dropout(p=0.5)\n",
    "input = torch.randn(1, 5, 5)\n",
    "output = m(input)\n",
    "output\n",
    "\n",
    "# Dropout.cpp源码\n",
    "# if (p == 0 || !train || input.numel() == 0) {\n",
    "#     return input;\n",
    "#   }"
   ],
   "outputs": [
    {
     "output_type": "execute_result",
     "data": {
      "text/plain": [
       "tensor([[[ 4.8833,  0.0000,  0.4930, -0.0000,  0.5939],\n",
       "         [-0.0000,  0.0000, -1.8928,  0.0000,  0.0000],\n",
       "         [ 1.9358, -3.5015,  0.0000, -0.0000,  0.0000],\n",
       "         [ 0.0000, -3.1049, -0.0000, -0.7500, -0.0000],\n",
       "         [ 0.0000,  0.0000,  0.0000,  1.8176,  0.9292]]])"
      ]
     },
     "metadata": {},
     "execution_count": 18
    }
   ],
   "metadata": {}
  },
  {
   "cell_type": "code",
   "execution_count": 15,
   "source": [
    "m = nn.BatchNorm2d(2)\n",
    "input = torch.randn(1, 2, 3, 4)\n",
    "output = m(input)\n",
    "output"
   ],
   "outputs": [
    {
     "output_type": "execute_result",
     "data": {
      "text/plain": [
       "tensor([[[[-2.3866,  0.7801,  1.3211, -0.0594],\n",
       "          [ 0.1229, -0.3531,  0.6838,  1.1586],\n",
       "          [-0.8050, -0.0357, -1.0059,  0.5793]],\n",
       "\n",
       "         [[-0.6803, -0.5501,  0.6612, -0.0157],\n",
       "          [ 1.1221,  0.5020,  0.2969, -1.3084],\n",
       "          [ 2.2809, -0.5808, -0.3878, -1.3400]]]],\n",
       "       grad_fn=<NativeBatchNormBackward>)"
      ]
     },
     "metadata": {},
     "execution_count": 15
    }
   ],
   "metadata": {}
  },
  {
   "cell_type": "code",
   "execution_count": 7,
   "source": [
    "import numpy as np\n",
    "X = np.array(([1,2],[3,3],[5,7],[3,1],[6,1]))\n",
    "X"
   ],
   "outputs": [
    {
     "output_type": "execute_result",
     "data": {
      "text/plain": [
       "array([[1, 2],\n",
       "       [3, 3],\n",
       "       [5, 7],\n",
       "       [3, 1],\n",
       "       [6, 1]])"
      ]
     },
     "metadata": {},
     "execution_count": 7
    }
   ],
   "metadata": {}
  },
  {
   "cell_type": "code",
   "execution_count": null,
   "source": [
    "y = np.array([[],[],[],[],[]])\n",
    "# y = 6 * x1 + 4 * x2 + 6"
   ],
   "outputs": [],
   "metadata": {}
  }
 ],
 "metadata": {
  "orig_nbformat": 4,
  "language_info": {
   "name": "python",
   "version": "3.6.10",
   "mimetype": "text/x-python",
   "codemirror_mode": {
    "name": "ipython",
    "version": 3
   },
   "pygments_lexer": "ipython3",
   "nbconvert_exporter": "python",
   "file_extension": ".py"
  },
  "kernelspec": {
   "name": "python3",
   "display_name": "Python 3.6.10 64-bit ('newstart': conda)"
  },
  "interpreter": {
   "hash": "4699d0494fcfbdcad71bfbf08269c8d05ff1b4528b9d75a5c8bdb803d5b027b9"
  }
 },
 "nbformat": 4,
 "nbformat_minor": 2
}