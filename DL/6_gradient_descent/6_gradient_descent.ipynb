{
 "cells": [
  {
   "cell_type": "markdown",
   "source": [
    "<h2 style=\"color:green\" align=\"center\">Implement Gradient Descent For Neural Network (or Logistic Regression)</h2>"
   ],
   "metadata": {}
  },
  {
   "cell_type": "markdown",
   "source": [
    "<h4 style=\"color:blue\">Predicting if a person would buy life insurnace based on his age using logistic regression</h4>"
   ],
   "metadata": {}
  },
  {
   "cell_type": "markdown",
   "source": [
    "Above is a binary logistic regression problem as there are only two possible outcomes (i.e. if person buys insurance or he/she doesn't). "
   ],
   "metadata": {}
  },
  {
   "cell_type": "code",
   "execution_count": null,
   "source": [],
   "outputs": [],
   "metadata": {}
  }
 ],
 "metadata": {
  "orig_nbformat": 4,
  "language_info": {
   "name": "python"
  }
 },
 "nbformat": 4,
 "nbformat_minor": 2
}