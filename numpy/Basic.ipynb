{
 "cells": [
  {
   "cell_type": "markdown",
   "metadata": {},
   "source": [
    "### 1. Array"
   ]
  },
  {
   "cell_type": "code",
   "execution_count": 1,
   "metadata": {},
   "outputs": [
    {
     "name": "stdout",
     "output_type": "stream",
     "text": [
      "(1, 3)\n",
      "[[1 2 3]]\n",
      "[[1 2]\n",
      " [3 4]]\n"
     ]
    }
   ],
   "source": [
    "\n",
    "import numpy as np\n",
    "a = np.array([1,2,3], dtype = int, order = 'F', ndmin = 2)\n",
    "print(a)\n",
    "b = np.array([[1,  2],  [3,  4]])\n",
    "print(b)"
   ]
  },
  {
   "cell_type": "markdown",
   "metadata": {},
   "source": [
    "### 2. 创建数组，默认为浮点型\n",
    "- numpy.empty\n",
    "- numpy.zeros\n",
    "- numpy.ones"
   ]
  },
  {
   "cell_type": "code",
   "execution_count": null,
   "metadata": {
    "collapsed": true
   },
   "outputs": [],
   "source": [
    "x = np.empty([3,2]) \n",
    "print (x)\n",
    "x = np.zeros([3,2]) \n",
    "print (x)\n",
    "x = np.ones([3,2]) \n",
    "print (x)"
   ]
  },
  {
   "cell_type": "markdown",
   "metadata": {},
   "source": [
    "### 3. 从已有数据中创建数组\n",
    "- numpy.asarray(dtype：数据类型，可选。order：可选，有\"C\"和\"F\"两个选项,分别代表，行优先和列优先，在计算机内存中的存储元素的顺序。)\n",
    "- numpy.frombuffer(dtype:返回数组的数据类型; count:读取的数据数量，默认为-1，读取所有数据 )"
   ]
  },
  {
   "cell_type": "code",
   "execution_count": 12,
   "metadata": {},
   "outputs": [
    {
     "name": "stdout",
     "output_type": "stream",
     "text": [
      "[(1, 2, 3) (4, 5)]\n",
      "[b'H' b'e' b'l' b'l' b'o' b' ' b'W' b'o' b'r' b'l' b'd']\n"
     ]
    }
   ],
   "source": [
    "x =  [(1,2,3),(4,5)] \n",
    "a = np.asarray(x)  \n",
    "print (a)\n",
    "s =  b'Hello World' \n",
    "a = np.frombuffer(s, dtype =  'S1')  \n",
    "print (a)"
   ]
  },
  {
   "cell_type": "markdown",
   "metadata": {},
   "source": [
    "### 4. 从数值范围创建数组\n",
    "- numpy.arange(start, stop, step, dtype)\n",
    "- np.linspace(start, stop, num=50, endpoint=True, retstep=False, dtype=None)\n",
    "- numpy.logspace 函数用于创建一个于等比数列。np.logspace(start, stop, num=50, endpoint=True, base=10.0, dtype=None)"
   ]
  },
  {
   "cell_type": "code",
   "execution_count": 15,
   "metadata": {},
   "outputs": [
    {
     "name": "stdout",
     "output_type": "stream",
     "text": [
      "[0 1 2 3 4]\n",
      "[1 2 3 4]\n",
      "[1 3]\n"
     ]
    }
   ],
   "source": [
    "x = np.arange(5)  \n",
    "print (x)\n",
    "x = np.arange(1,5)  \n",
    "print (x)\n",
    "x = np.arange(1,5,2)  \n",
    "print (x)"
   ]
  },
  {
   "cell_type": "code",
   "execution_count": 18,
   "metadata": {},
   "outputs": [
    {
     "name": "stdout",
     "output_type": "stream",
     "text": [
      "[  1.   2.   4.   8.  16.  32.  64. 128. 256. 512.]\n"
     ]
    }
   ],
   "source": [
    "a = np.logspace(0,10,10,endpoint=False,base=2)\n",
    "print (a)"
   ]
  },
  {
   "cell_type": "markdown",
   "metadata": {},
   "source": [
    "### 5. 切片和索引"
   ]
  },
  {
   "cell_type": "code",
   "execution_count": 23,
   "metadata": {},
   "outputs": [
    {
     "name": "stdout",
     "output_type": "stream",
     "text": [
      "[2 4 6]\n",
      "[2 4 6]\n"
     ]
    }
   ],
   "source": [
    "a = np.arange(10)\n",
    "s = slice(2,7,2)   # 从索引 2 开始到索引 7 停止，间隔为2\n",
    "print (a[s])\n",
    "b = a[2:7:2]   # 从索引 2 开始到索引 7 停止，间隔为 2\n",
    "print(b)"
   ]
  },
  {
   "cell_type": "code",
   "execution_count": 26,
   "metadata": {},
   "outputs": [
    {
     "name": "stdout",
     "output_type": "stream",
     "text": [
      "[2 4 5]\n",
      "[3 4 5]\n",
      "[[2 3]\n",
      " [4 5]\n",
      " [5 6]]\n"
     ]
    }
   ],
   "source": [
    "a = np.array([[1,2,3],[3,4,5],[4,5,6]])  \n",
    "print (a[...,1])   # 第2列元素\n",
    "print (a[1,...])   # 第2行元素\n",
    "print (a[...,1:])  # 第2列及剩下的所有元素"
   ]
  },
  {
   "cell_type": "markdown",
   "metadata": {},
   "source": [
    "### 6. 数组操作\n",
    "- numpy.reshape\n",
    "- numpy.ndarray.flat\n",
    "- numpy.ndarray.flatten\n",
    "- numpy.ravel"
   ]
  }
 ],
 "metadata": {
  "kernelspec": {
   "display_name": "Python 3.6.10 64-bit ('newstart': conda)",
   "language": "python",
   "name": "python361064bitnewstartcondaa361366bb9b04b95bd83226792cb878c"
  },
  "language_info": {
   "codemirror_mode": {
    "name": "ipython",
    "version": 3
   },
   "file_extension": ".py",
   "mimetype": "text/x-python",
   "name": "python",
   "nbconvert_exporter": "python",
   "pygments_lexer": "ipython3",
   "version": "3.6.10"
  }
 },
 "nbformat": 4,
 "nbformat_minor": 2
}
